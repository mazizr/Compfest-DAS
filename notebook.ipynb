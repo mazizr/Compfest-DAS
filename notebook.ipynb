{
 "cells": [
  {
   "cell_type": "code",
   "execution_count": 1,
   "metadata": {},
   "outputs": [],
   "source": [
    "import pandas as pd\n",
    "import os"
   ]
  },
  {
   "cell_type": "code",
   "execution_count": 3,
   "metadata": {},
   "outputs": [],
   "source": [
    "files = [file for file in os.listdir('./data-banjir-perbulan-2020')]\n",
    "\n",
    "all_data = pd.DataFrame()\n",
    "\n",
    "for file in files:\n",
    "    df = pd.read_csv('./data-banjir-perbulan-2020/'+file)\n",
    "    all_data = pd.concat([all_data, df])\n",
    "\n",
    "\n",
    "# Membuat file all_data.csv\n",
    "all_data.to_csv('data-banjir-jakarta-2020.csv', index=False)"
   ]
  },
  {
   "cell_type": "code",
   "execution_count": 20,
   "metadata": {},
   "outputs": [],
   "source": [
    "def hapus_tgl(text):\n",
    "    return str(text).replace('tgl.', '')\n",
    "    \n",
    "data_banjir_tahun = pd.read_csv('data-banjir-jakarta-2018.csv')\n",
    "tahun = 2020\n",
    "data_banjir_tahun['tanggal_kejadian'] = data_banjir_tahun['tanggal_kejadian'].apply(hapus_tgl).apply(lambda x: str(x) + ' ' + str(tahun))\n",
    "\n",
    "data_banjir_tahun.head(20)\n",
    "data_banjir_tahun.to_csv('data-banjir-jakarta-2020.csv', index=False)"
   ]
  },
  {
   "cell_type": "code",
   "execution_count": null,
   "metadata": {},
   "outputs": [],
   "source": [
    "data_banjir_bulan = pd.read_csv('./data-banjir-perbulan/data-kejadian-bencana-banjir-di-provinsi-dki-jakarta-tahun-2018-bulan-agustus.csv')\n",
    "tahun = 2018\n",
    "data_banjir_bulan['tanggal_kejadian'] = data_banjir_bulan['tanggal_kejadian'].apply(lambda x: str(x) + ' ' + str(tahun))\n",
    "data_banjir_bulan"
   ]
  },
  {
   "cell_type": "code",
   "execution_count": 15,
   "metadata": {},
   "outputs": [],
   "source": []
  },
  {
   "cell_type": "code",
   "execution_count": null,
   "metadata": {},
   "outputs": [],
   "source": []
  }
 ],
 "metadata": {
  "kernelspec": {
   "display_name": "Python 3",
   "language": "python",
   "name": "python3"
  },
  "language_info": {
   "codemirror_mode": {
    "name": "ipython",
    "version": 3
   },
   "file_extension": ".py",
   "mimetype": "text/x-python",
   "name": "python",
   "nbconvert_exporter": "python",
   "pygments_lexer": "ipython3",
   "version": "3.10.9 (tags/v3.10.9:1dd9be6, Dec  6 2022, 20:01:21) [MSC v.1934 64 bit (AMD64)]"
  },
  "orig_nbformat": 4,
  "vscode": {
   "interpreter": {
    "hash": "26de051ba29f2982a8de78e945f0abaf191376122a1563185a90213a26c5da77"
   }
  }
 },
 "nbformat": 4,
 "nbformat_minor": 2
}
